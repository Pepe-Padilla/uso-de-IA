{
  "cells": [
    {
      "cell_type": "markdown",
      "metadata": {
        "id": "view-in-github",
        "colab_type": "text"
      },
      "source": [
        "<a href=\"https://colab.research.google.com/github/Pepe-Padilla/uso-de-IA/blob/main/contestadorMail.ipynb\" target=\"_parent\"><img src=\"https://colab.research.google.com/assets/colab-badge.svg\" alt=\"Open In Colab\"/></a>"
      ]
    },
    {
      "cell_type": "markdown",
      "source": [
        "# Automatizador de correos\n",
        "> #### Componentes Intergalacticos Industriales SA.\n",
        "Misión: automatizar las respuestas a los emails de solicitud de devolución de la empresa.\n",
        "\n",
        "Objetivo\n",
        "Aceptar la devolución:\n",
        "- ✅ Motivos para ACEPTAR una solicitud de devolución:\n",
        " - Defecto de fabricación confirmado: El producto presenta fallos internos o de funcionamiento no atribuibles al transporte ni a un mal uso.\n",
        " - Error en el suministro: Se han entregado componentes incorrectos en cuanto a modelo, cantidad o especificación respecto al pedido original.\n",
        " - Producto incompleto o con elementos faltantes de fábrica: Falta documentación técnica, piezas necesarias o embalaje original desde el origen.\n",
        "- ❌ Motivos para RECHAZAR una solicitud de devolución:\n",
        " - Daños ocasionados durante el transporte: Si el transporte no estaba asegurado  \n",
        " - contratado directamente por la empresa, no se asume responsabilidad por los daños ocurridos durante el envío.\n",
        " - Manipulación indebida por parte del cliente: Instalación incorrecta, modificaciones o uso inapropiado del componente.\n",
        " - Superación del plazo máximo para devoluciones: La solicitud se presenta fuera del periodo establecido por la política de devoluciones (por ejemplo, 14 días naturales).\n",
        "- 📧 Contestar el correo\n",
        "\n",
        "Requisitos\n",
        "- crear un flujo con al menos 3 pasos utilizando cualquiera de las herramientas usadas en clase .\n",
        "- un pequeño documento justificando los prompts y el desarrollo realizado.\n"
      ],
      "metadata": {
        "id": "5LM4Md_zMJ8_"
      }
    },
    {
      "cell_type": "markdown",
      "source": [
        "## 1. Instalación e imports"
      ],
      "metadata": {
        "id": "M7FDJzizNKYC"
      }
    },
    {
      "cell_type": "code",
      "source": [
        "!pip install langchain langchain-openai dotenv\n",
        "\n",
        "from langchain_openai import ChatOpenAI\n",
        "from langchain.prompts import ChatPromptTemplate, PromptTemplate\n",
        "from langchain.chains import LLMChain\n",
        "from langchain.schema import SystemMessage, HumanMessage\n",
        "from dotenv import load_dotenv\n",
        "import os\n",
        "\n",
        "load_dotenv()"
      ],
      "metadata": {
        "colab": {
          "base_uri": "https://localhost:8080/"
        },
        "id": "cqWB3Zc3NQaa",
        "outputId": "bb7675af-8d16-4437-d454-45c6a2892141"
      },
      "execution_count": 1,
      "outputs": [
        {
          "output_type": "stream",
          "name": "stdout",
          "text": [
            "Requirement already satisfied: langchain in /usr/local/lib/python3.11/dist-packages (0.3.24)\n",
            "Collecting langchain-openai\n",
            "  Downloading langchain_openai-0.3.16-py3-none-any.whl.metadata (2.3 kB)\n",
            "Collecting dotenv\n",
            "  Downloading dotenv-0.9.9-py2.py3-none-any.whl.metadata (279 bytes)\n",
            "Requirement already satisfied: langchain-core<1.0.0,>=0.3.55 in /usr/local/lib/python3.11/dist-packages (from langchain) (0.3.56)\n",
            "Requirement already satisfied: langchain-text-splitters<1.0.0,>=0.3.8 in /usr/local/lib/python3.11/dist-packages (from langchain) (0.3.8)\n",
            "Requirement already satisfied: langsmith<0.4,>=0.1.17 in /usr/local/lib/python3.11/dist-packages (from langchain) (0.3.39)\n",
            "Requirement already satisfied: pydantic<3.0.0,>=2.7.4 in /usr/local/lib/python3.11/dist-packages (from langchain) (2.11.4)\n",
            "Requirement already satisfied: SQLAlchemy<3,>=1.4 in /usr/local/lib/python3.11/dist-packages (from langchain) (2.0.40)\n",
            "Requirement already satisfied: requests<3,>=2 in /usr/local/lib/python3.11/dist-packages (from langchain) (2.32.3)\n",
            "Requirement already satisfied: PyYAML>=5.3 in /usr/local/lib/python3.11/dist-packages (from langchain) (6.0.2)\n",
            "Collecting langchain-core<1.0.0,>=0.3.55 (from langchain)\n",
            "  Downloading langchain_core-0.3.59-py3-none-any.whl.metadata (5.9 kB)\n",
            "Requirement already satisfied: openai<2.0.0,>=1.68.2 in /usr/local/lib/python3.11/dist-packages (from langchain-openai) (1.76.2)\n",
            "Collecting tiktoken<1,>=0.7 (from langchain-openai)\n",
            "  Downloading tiktoken-0.9.0-cp311-cp311-manylinux_2_17_x86_64.manylinux2014_x86_64.whl.metadata (6.7 kB)\n",
            "Collecting python-dotenv (from dotenv)\n",
            "  Downloading python_dotenv-1.1.0-py3-none-any.whl.metadata (24 kB)\n",
            "Requirement already satisfied: tenacity!=8.4.0,<10.0.0,>=8.1.0 in /usr/local/lib/python3.11/dist-packages (from langchain-core<1.0.0,>=0.3.55->langchain) (9.1.2)\n",
            "Requirement already satisfied: jsonpatch<2.0,>=1.33 in /usr/local/lib/python3.11/dist-packages (from langchain-core<1.0.0,>=0.3.55->langchain) (1.33)\n",
            "Requirement already satisfied: packaging<25,>=23.2 in /usr/local/lib/python3.11/dist-packages (from langchain-core<1.0.0,>=0.3.55->langchain) (24.2)\n",
            "Requirement already satisfied: typing-extensions>=4.7 in /usr/local/lib/python3.11/dist-packages (from langchain-core<1.0.0,>=0.3.55->langchain) (4.13.2)\n",
            "Requirement already satisfied: httpx<1,>=0.23.0 in /usr/local/lib/python3.11/dist-packages (from langsmith<0.4,>=0.1.17->langchain) (0.28.1)\n",
            "Requirement already satisfied: orjson<4.0.0,>=3.9.14 in /usr/local/lib/python3.11/dist-packages (from langsmith<0.4,>=0.1.17->langchain) (3.10.18)\n",
            "Requirement already satisfied: requests-toolbelt<2.0.0,>=1.0.0 in /usr/local/lib/python3.11/dist-packages (from langsmith<0.4,>=0.1.17->langchain) (1.0.0)\n",
            "Requirement already satisfied: zstandard<0.24.0,>=0.23.0 in /usr/local/lib/python3.11/dist-packages (from langsmith<0.4,>=0.1.17->langchain) (0.23.0)\n",
            "Requirement already satisfied: anyio<5,>=3.5.0 in /usr/local/lib/python3.11/dist-packages (from openai<2.0.0,>=1.68.2->langchain-openai) (4.9.0)\n",
            "Requirement already satisfied: distro<2,>=1.7.0 in /usr/local/lib/python3.11/dist-packages (from openai<2.0.0,>=1.68.2->langchain-openai) (1.9.0)\n",
            "Requirement already satisfied: jiter<1,>=0.4.0 in /usr/local/lib/python3.11/dist-packages (from openai<2.0.0,>=1.68.2->langchain-openai) (0.9.0)\n",
            "Requirement already satisfied: sniffio in /usr/local/lib/python3.11/dist-packages (from openai<2.0.0,>=1.68.2->langchain-openai) (1.3.1)\n",
            "Requirement already satisfied: tqdm>4 in /usr/local/lib/python3.11/dist-packages (from openai<2.0.0,>=1.68.2->langchain-openai) (4.67.1)\n",
            "Requirement already satisfied: annotated-types>=0.6.0 in /usr/local/lib/python3.11/dist-packages (from pydantic<3.0.0,>=2.7.4->langchain) (0.7.0)\n",
            "Requirement already satisfied: pydantic-core==2.33.2 in /usr/local/lib/python3.11/dist-packages (from pydantic<3.0.0,>=2.7.4->langchain) (2.33.2)\n",
            "Requirement already satisfied: typing-inspection>=0.4.0 in /usr/local/lib/python3.11/dist-packages (from pydantic<3.0.0,>=2.7.4->langchain) (0.4.0)\n",
            "Requirement already satisfied: charset-normalizer<4,>=2 in /usr/local/lib/python3.11/dist-packages (from requests<3,>=2->langchain) (3.4.1)\n",
            "Requirement already satisfied: idna<4,>=2.5 in /usr/local/lib/python3.11/dist-packages (from requests<3,>=2->langchain) (3.10)\n",
            "Requirement already satisfied: urllib3<3,>=1.21.1 in /usr/local/lib/python3.11/dist-packages (from requests<3,>=2->langchain) (2.4.0)\n",
            "Requirement already satisfied: certifi>=2017.4.17 in /usr/local/lib/python3.11/dist-packages (from requests<3,>=2->langchain) (2025.4.26)\n",
            "Requirement already satisfied: greenlet>=1 in /usr/local/lib/python3.11/dist-packages (from SQLAlchemy<3,>=1.4->langchain) (3.2.1)\n",
            "Requirement already satisfied: regex>=2022.1.18 in /usr/local/lib/python3.11/dist-packages (from tiktoken<1,>=0.7->langchain-openai) (2024.11.6)\n",
            "Requirement already satisfied: httpcore==1.* in /usr/local/lib/python3.11/dist-packages (from httpx<1,>=0.23.0->langsmith<0.4,>=0.1.17->langchain) (1.0.9)\n",
            "Requirement already satisfied: h11>=0.16 in /usr/local/lib/python3.11/dist-packages (from httpcore==1.*->httpx<1,>=0.23.0->langsmith<0.4,>=0.1.17->langchain) (0.16.0)\n",
            "Requirement already satisfied: jsonpointer>=1.9 in /usr/local/lib/python3.11/dist-packages (from jsonpatch<2.0,>=1.33->langchain-core<1.0.0,>=0.3.55->langchain) (3.0.0)\n",
            "Downloading langchain_openai-0.3.16-py3-none-any.whl (62 kB)\n",
            "\u001b[2K   \u001b[90m━━━━━━━━━━━━━━━━━━━━━━━━━━━━━━━━━━━━━━━━\u001b[0m \u001b[32m62.8/62.8 kB\u001b[0m \u001b[31m2.2 MB/s\u001b[0m eta \u001b[36m0:00:00\u001b[0m\n",
            "\u001b[?25hDownloading dotenv-0.9.9-py2.py3-none-any.whl (1.9 kB)\n",
            "Downloading langchain_core-0.3.59-py3-none-any.whl (437 kB)\n",
            "\u001b[2K   \u001b[90m━━━━━━━━━━━━━━━━━━━━━━━━━━━━━━━━━━━━━━━━\u001b[0m \u001b[32m437.7/437.7 kB\u001b[0m \u001b[31m10.4 MB/s\u001b[0m eta \u001b[36m0:00:00\u001b[0m\n",
            "\u001b[?25hDownloading tiktoken-0.9.0-cp311-cp311-manylinux_2_17_x86_64.manylinux2014_x86_64.whl (1.2 MB)\n",
            "\u001b[2K   \u001b[90m━━━━━━━━━━━━━━━━━━━━━━━━━━━━━━━━━━━━━━━━\u001b[0m \u001b[32m1.2/1.2 MB\u001b[0m \u001b[31m15.9 MB/s\u001b[0m eta \u001b[36m0:00:00\u001b[0m\n",
            "\u001b[?25hDownloading python_dotenv-1.1.0-py3-none-any.whl (20 kB)\n",
            "Installing collected packages: python-dotenv, tiktoken, dotenv, langchain-core, langchain-openai\n",
            "  Attempting uninstall: langchain-core\n",
            "    Found existing installation: langchain-core 0.3.56\n",
            "    Uninstalling langchain-core-0.3.56:\n",
            "      Successfully uninstalled langchain-core-0.3.56\n",
            "Successfully installed dotenv-0.9.9 langchain-core-0.3.59 langchain-openai-0.3.16 python-dotenv-1.1.0 tiktoken-0.9.0\n"
          ]
        },
        {
          "output_type": "execute_result",
          "data": {
            "text/plain": [
              "False"
            ]
          },
          "metadata": {},
          "execution_count": 1
        }
      ]
    },
    {
      "cell_type": "markdown",
      "source": [],
      "metadata": {
        "id": "vNmlfEmsRpf3"
      }
    },
    {
      "cell_type": "markdown",
      "source": [
        "## 2. Definición de prompts"
      ],
      "metadata": {
        "id": "MHHA7TDhN2Ve"
      }
    },
    {
      "cell_type": "code",
      "source": [
        "system_prompt_reader_template = \"\"\"\n",
        "Eres un asistente de atención al cliente para Componentes Intergalácticos Industriales S.A. (al estilo star wars)\n",
        "\n",
        "Tu tarea es analizar emails de solicitud de devolución\n",
        "\n",
        "Extraelos datos relevantes:\n",
        "- número de pedido (Unknow en caso de no haber sido informado)\n",
        "- nombre del cliente o empresa (Unknow en caso de no haber sido informado)\n",
        "- email\n",
        "- motivo de la solicitud\n",
        "- productos solicitados (array de productos)\n",
        "- si se ha superado un plazo de 14 día naturales para devoluciones\n",
        "- si hay defecto de fabricación en el o los productos reclamados (flase en caso de no haber sido informado)\n",
        "- si se entregaron componentes incorrecto(false en caso de no haber sido informado)\n",
        "- si el producto vino incompleto desde fábrica (false en caso de no haber sido informado)\n",
        "- si hubo daños ocasionados durante el transporte (false en caso de no haber sido informado)\n",
        "- si el envío fue asegurado por la empresa (false en caso de no haber sido informado)\n",
        "- si hubo manipulación indebida por el cliente (false en caso de no haber sido informado)\n",
        "\n",
        "Solo regresa la información en formato JSON. Contesta solo con el json\n",
        "\n",
        "aqui tienes el email: {mail}\n",
        "\"\"\"\n",
        "system_prompt_reader = PromptTemplate(\n",
        "    input_variables=[\"mail\"],\n",
        "    template=system_prompt_reader_template,\n",
        ")\n",
        "\n",
        "system_prompt_acceptance_template = \"\"\"\n",
        "Eres un asistente de atención al cliente para Componentes Intergalácticos Industriales S.A. (al estilo star wars)\n",
        "Tu tarea es analizar el objeto json de entrada y decidir si se acepta, se rechaza o se solicita más información de acurdo a las siguientes reglas:\n",
        "\n",
        "✅ ACEPTAR si:\n",
        "- Hay defecto de fabricación.\n",
        "- Se entregaron componentes incorrectos.\n",
        "- El producto vino incompleto desde fábrica.\n",
        "\n",
        "❌ RECHAZAR si:\n",
        "- Si Los daños ocurrieron durante el transporte y el envío no fue asegurado por la empresa.\n",
        "- Hubo manipulación indebida por parte del cliente.\n",
        "- Se ha superado el plazo de 14 días naturales para devoluciones.\n",
        "\n",
        "Resoponde sobre el json de entrada agregando en campo \"resultado\" si se acepta, se rechaza o se solicita más información y el motivo en el campo \"motivo\", priorizar motivos de rechazo sobre los de aceptación. Contesta solo con el json\n",
        "\n",
        "aqui tienes el json: {json_info}\n",
        "\"\"\"\n",
        "system_prompt_acceptance = PromptTemplate(\n",
        "    input_variables=[\"json_info\"],\n",
        "    template=system_prompt_acceptance_template,\n",
        ")\n",
        "\n",
        "system_prompt_mail_template = \"\"\"\n",
        "Eres un asistente de atención al cliente para Componentes Intergalácticos Industriales S.A. (al estilo star wars)\n",
        "\n",
        "Tu tarea es analizar el objeto json de entrada donde se informa en el campo \"resultado\" si una solicitud de devolución es aceptada, rechazada o se solicita más información\n",
        "En el campo \"motivo\" para indicar el motivo del rechazo\n",
        "\n",
        "Y redacta un correo de acuerdo a la información del json de entrada respetando el resultado y motivo por encima de todo, mandalo a nombre del equipo de incidencias, nuestro correo: incidencias@cii.com, holofono: 87456-5465413-3131\n",
        "\n",
        "Mantén un tono formal y en personaje del mundo de star wars\n",
        "\n",
        "Contesta solo con el correo a enviar.\n",
        "\n",
        "aqui tienes el json: {decision_json}\n",
        "\"\"\"\n",
        "\n",
        "system_prompt_mail = PromptTemplate(\n",
        "    input_variables=[\"decision_json\"],\n",
        "    template=system_prompt_mail_template,\n",
        ")"
      ],
      "metadata": {
        "id": "OJIfk6QvN8QQ"
      },
      "execution_count": 59,
      "outputs": []
    },
    {
      "cell_type": "markdown",
      "source": [
        "## 3. Construcción del chain"
      ],
      "metadata": {
        "id": "qmSvhgmaShv4"
      }
    },
    {
      "cell_type": "code",
      "source": [
        "chat = ChatOpenAI(model=\"gpt-4o\")\n",
        "# 3.1 Lectura del correo\n",
        "email_chain = LLMChain(\n",
        "    llm=chat,\n",
        "    prompt=system_prompt_reader\n",
        "    )\n",
        "# 3.2 Decisión de aceptación\n",
        "acceptance_chain = LLMChain(\n",
        "    llm=chat,\n",
        "    prompt=system_prompt_acceptance)\n",
        "\n",
        "# 3.3 Redacción del correo\n",
        "mail_chain = LLMChain(\n",
        "    llm=chat,\n",
        "    prompt=system_prompt_mail\n",
        ")\n"
      ],
      "metadata": {
        "id": "kxWiNKzyScpY"
      },
      "execution_count": 54,
      "outputs": []
    },
    {
      "cell_type": "markdown",
      "source": [
        "## 4. Flujo"
      ],
      "metadata": {
        "id": "xrI-6ek9Uld1"
      }
    },
    {
      "cell_type": "markdown",
      "source": [
        "### 4.1 Ejemplo 1"
      ],
      "metadata": {
        "id": "IZnyhc37lYfw"
      }
    },
    {
      "cell_type": "code",
      "source": [
        "email_cliente = \"\"\"\n",
        "Asunto: Solicitud de reemplazo por daños en transporte – Pedido #D347-STELLA\n",
        "Estimado equipo de Componentes Intergalácticos Industriales S.A.,\n",
        "Me pongo en contacto con ustedes como cliente reciente para comunicar una incidencia relacionada con el pedido #D347-STELLA, correspondiente a un lote de condensadores de fluzo modelo FX-88, destinados a un proyecto estratégico de gran envergadura: la construcción de la Estrella de la Muerte.\n",
        "Lamentablemente, al recibir el envío, observamos que varios de los condensadores presentaban daños visibles y no funcionales. Tras revisar el estado del embalaje y consultar con el piloto de carga, todo indica que la mercancía sufrió una caída durante el transporte interestelar.\n",
        "Dado que estos componentes son críticos para la activación del núcleo central del sistema de rayos destructores, les solicitamos con carácter urgente el reemplazo inmediato de las unidades defectuosas, así como una revisión de los protocolos de embalaje y transporte para evitar que algo así vuelva a ocurrir.\n",
        "Adjunto imágenes del estado de los condensadores y el albarán de entrega sellado por nuestro droide de recepción.\n",
        "Agradezco de antemano su pronta atención a este asunto. Quedamos a la espera de su respuesta para coordinar el reemplazo.\n",
        "Atentamente,\n",
        "Darth Márquez\n",
        "Departamento de Ingeniería Imperial\n",
        "Sector de Proyectos Especiales\n",
        "Contacto: dmarquez@imperiumgalactic.net\n",
        "Holofono: +34 9X9 123 456\n",
        "\"\"\""
      ],
      "metadata": {
        "id": "duiNSsGrUw3i"
      },
      "execution_count": 60,
      "outputs": []
    },
    {
      "cell_type": "code",
      "source": [
        "# Paso 1\n",
        "parsed_info = email_chain.invoke(input= email_cliente)\n",
        "print(parsed_info)\n",
        "\n"
      ],
      "metadata": {
        "colab": {
          "base_uri": "https://localhost:8080/"
        },
        "id": "aqiEsRLTU7C6",
        "outputId": "609bd481-7f62-4b80-bb53-d37cafe3bcd2"
      },
      "execution_count": 56,
      "outputs": [
        {
          "output_type": "stream",
          "name": "stdout",
          "text": [
            "{'mail': '\\nAsunto: Solicitud de reemplazo por daños en transporte – Pedido #D347-STELLA\\nEstimado equipo de Componentes Intergalácticos Industriales S.A.,\\nMe pongo en contacto con ustedes como cliente reciente para comunicar una incidencia relacionada con el pedido #D347-STELLA, correspondiente a un lote de condensadores de fluzo modelo FX-88, destinados a un proyecto estratégico de gran envergadura: la construcción de la Estrella de la Muerte.\\nLamentablemente, al recibir el envío, observamos que varios de los condensadores presentaban daños visibles y no funcionales. Tras revisar el estado del embalaje y consultar con el piloto de carga, todo indica que la mercancía sufrió una caída durante el transporte interestelar.\\nDado que estos componentes son críticos para la activación del núcleo central del sistema de rayos destructores, les solicitamos con carácter urgente el reemplazo inmediato de las unidades defectuosas, así como una revisión de los protocolos de embalaje y transporte para evitar que algo así vuelva a ocurrir.\\nAdjunto imágenes del estado de los condensadores y el albarán de entrega sellado por nuestro droide de recepción.\\nAgradezco de antemano su pronta atención a este asunto. Quedamos a la espera de su respuesta para coordinar el reemplazo.\\nAtentamente,\\nDarth Márquez\\nDepartamento de Ingeniería Imperial\\nSector de Proyectos Especiales\\nContacto: dmarquez@imperiumgalactic.net\\nHolofono: +34 9X9 123 456\\n', 'text': '```json\\n{\\n    \"número de pedido\": \"D347-STELLA\",\\n    \"nombre del cliente o empresa\": \"Darth Márquez\",\\n    \"email\": \"dmarquez@imperiumgalactic.net\",\\n    \"motivo de la solicitud\": \"Reemplazo por daños en transporte\",\\n    \"productos solicitados\": [\"condensadores de fluzo modelo FX-88\"],\\n    \"superó plazo de 14 días para devoluciones\": false,\\n    \"defecto de fabricación\": false,\\n    \"entrega de componentes incorrectos\": false,\\n    \"producto incompleto desde fábrica\": false,\\n    \"daños en transporte\": true,\\n    \"envío asegurado\": false,\\n    \"manipulación indebida por el cliente\": false\\n}\\n```'}\n"
          ]
        }
      ]
    },
    {
      "cell_type": "code",
      "source": [
        "# Paso 2\n",
        "decision_result = acceptance_chain.invoke(input= parsed_info[\"text\"])\n",
        "print(decision_result)\n"
      ],
      "metadata": {
        "colab": {
          "base_uri": "https://localhost:8080/"
        },
        "id": "4a0bVz5MgojB",
        "outputId": "4a0d827b-4f17-4f3c-e828-212f3f7373b6"
      },
      "execution_count": 57,
      "outputs": [
        {
          "output_type": "stream",
          "name": "stdout",
          "text": [
            "{'json_info': '```json\\n{\\n    \"número de pedido\": \"D347-STELLA\",\\n    \"nombre del cliente o empresa\": \"Darth Márquez\",\\n    \"email\": \"dmarquez@imperiumgalactic.net\",\\n    \"motivo de la solicitud\": \"Reemplazo por daños en transporte\",\\n    \"productos solicitados\": [\"condensadores de fluzo modelo FX-88\"],\\n    \"superó plazo de 14 días para devoluciones\": false,\\n    \"defecto de fabricación\": false,\\n    \"entrega de componentes incorrectos\": false,\\n    \"producto incompleto desde fábrica\": false,\\n    \"daños en transporte\": true,\\n    \"envío asegurado\": false,\\n    \"manipulación indebida por el cliente\": false\\n}\\n```', 'text': '```json\\n{\\n    \"número de pedido\": \"D347-STELLA\",\\n    \"nombre del cliente o empresa\": \"Darth Márquez\",\\n    \"email\": \"dmarquez@imperiumgalactic.net\",\\n    \"motivo de la solicitud\": \"Reemplazo por daños en transporte\",\\n    \"productos solicitados\": [\"condensadores de fluzo modelo FX-88\"],\\n    \"superó plazo de 14 días para devoluciones\": false,\\n    \"defecto de fabricación\": false,\\n    \"entrega de componentes incorrectos\": false,\\n    \"producto incompleto desde fábrica\": false,\\n    \"daños en transporte\": true,\\n    \"envío asegurado\": false,\\n    \"manipulación indebida por el cliente\": false,\\n    \"resultado\": \"rechazar\",\\n    \"motivo\": \"Daños ocurrieron durante el transporte y el envío no fue asegurado por la empresa.\"\\n}\\n```'}\n"
          ]
        }
      ]
    },
    {
      "cell_type": "code",
      "source": [
        "# Paso 3\n",
        "respuesta_final = mail_chain.invoke(input= decision_result[\"json_info\"])\n",
        "print(respuesta_final['text'])"
      ],
      "metadata": {
        "colab": {
          "base_uri": "https://localhost:8080/"
        },
        "id": "SxLY8QojgqpY",
        "outputId": "13f83808-c6ee-4e31-9971-0bfa533a9711"
      },
      "execution_count": 61,
      "outputs": [
        {
          "output_type": "stream",
          "name": "stdout",
          "text": [
            "Asunto: Solicitud de Devolución - Pedido D347-STELLA - Darth Márquez\n",
            "\n",
            "Estimada Darth Márquez,\n",
            "\n",
            "Reciban un saludo cordial de parte del equipo de incidencias de Componentes Intergalácticos Industriales S.A. Esperamos que este mensaje le encuentre en buen estado.\n",
            "\n",
            "Nos referimos a su reciente solicitud de devolución correspondiente al pedido D347-STELLA, relacionado con los condensadores de fluzo modelo FX-88 solicitados. Hemos llevado a cabo un análisis exhaustivo de su caso y, lamentablemente, debemos informar que su solicitud ha sido rechazada.\n",
            "\n",
            "Motivo del rechazo: La solicitud de devolución ha sido denegada debido a que el envío no ha sido asegurado. Los daños reportados, aunque lamentables, no pueden ser cubiertos bajo nuestra política de devoluciones sin una póliza de seguro que ampare los riesgos de transporte. \n",
            "\n",
            "Entendemos la preocupación que esta situación pueda causar y nos comprometemos a seguir trabajando para mejorar constantemente nuestros servicios comunitarios por la galaxia. Si tiene alguna duda adicional o requiere más asistencia, no dude en contactarnos a través de este correo electrónico incidencias@cii.com o a través de nuestro holófono al número 87456-5465413-3131.\n",
            "\n",
            "Agradecemos su comprensión y quedamos a su disposición para cualquier otro asunto en el que podamos serle de ayuda. Que la Fuerza le acompañe.\n",
            "\n",
            "Atentamente,\n",
            "\n",
            "Equipo de Incidencias  \n",
            "Componentes Intergalácticos Industriales S.A.  \n",
            "incidencias@cii.com  \n",
            "Holófono: 87456-5465413-3131  \n"
          ]
        }
      ]
    },
    {
      "cell_type": "markdown",
      "source": [
        "### 4.2 Ejemplo 2"
      ],
      "metadata": {
        "id": "EAtYDCGClcoh"
      }
    },
    {
      "cell_type": "code",
      "source": [
        "email_cliente = \"\"\"\n",
        "Asunto: Solicitud de reemplazo – Pedido #D347-STELLA\n",
        "Componentes Intergalácticos Industriales S.A.,\n",
        "Relacionado con el pedido #D347-STELLA, he solicitado 4 transitores de cristales Kuarsom.\n",
        "Sin embargo, el día de ayer hemos recibido solo 3 y de cristales Limnon.\n",
        "Agradecería nos aceptaran la devolución y pocederemos a solicitar el material que necesitamos.\n",
        "Atentamente,\n",
        "Lukko Cielos\n",
        "Contacto: lukkoc@resistenciaFTW.org\n",
        "Holofono: +34 564-1656-165\n",
        "\"\"\""
      ],
      "metadata": {
        "id": "w6aF6_Mtlgkp"
      },
      "execution_count": 62,
      "outputs": []
    },
    {
      "cell_type": "code",
      "source": [
        "parsed_info = email_chain.invoke(input= email_cliente)\n",
        "decision_result = acceptance_chain.invoke(input= parsed_info[\"text\"])\n",
        "respuesta_final = mail_chain.invoke(input= decision_result[\"json_info\"])\n",
        "print(respuesta_final['text'])"
      ],
      "metadata": {
        "colab": {
          "base_uri": "https://localhost:8080/"
        },
        "id": "0y8eqVbllmgj",
        "outputId": "8ef5f5d0-dff4-4ed1-8720-81d82e88b4fd"
      },
      "execution_count": 63,
      "outputs": [
        {
          "output_type": "stream",
          "name": "stdout",
          "text": [
            "Asunto: Actualización sobre tu solicitud de devolución - Pedido D347-STELLA\n",
            "\n",
            "Estimado Lukko Cielos,\n",
            "\n",
            "Desde los confines de nuestra base en Componentes Intergalácticos Industriales S.A., te saludamos en esta galaxia lejana. Queremos agradecerte tu paciencia y confianza en nosotros, así como informar sobre el estado de tu solicitud de devolución para el pedido número D347-STELLA.\n",
            "\n",
            "Hemos revisado detalladamente tu caso donde informas que has recibido un número incorrecto de transitores, y además, los transitores enviados eran incorrectos. Tras nuestro análisis, hemos determinado que debido a que el producto recibió componentes incorrectos y está incompleto, procederemos a aceptar la devolución del mismo.\n",
            "\n",
            "Apreciamos que te tomes el tiempo de cuidar estos detalles, ya que nos ayuda a mejorar la calidad de nuestros servicios. Te proporcionaremos más instrucciones sobre cómo proceder con el envío de los componentes para que podamos resolver esta situación a la mayor brevedad posible.\n",
            "\n",
            "Si tienes cualquier pregunta adicional o necesitas asistencia inmediata, no dudes en contactarnos a través de nuestro holófono: 87456-5465413-3131, o responder a este mensaje directo al correo incidencias@cii.com. Nuestro equipo de incidencias está preparado para asistirte con cualquier requerimiento adicional.\n",
            "\n",
            "Que la fuerza te acompañe,  \n",
            "El equipo de incidencias de Componentes Intergalácticos Industriales S.A.  \n",
            "incidencias@cii.com  \n",
            "Holófono: 87456-5465413-3131\n"
          ]
        }
      ]
    },
    {
      "cell_type": "markdown",
      "source": [
        "## 5. Concluciones y justificaciones"
      ],
      "metadata": {
        "id": "-Nu6K8rmsBaS"
      }
    },
    {
      "cell_type": "markdown",
      "source": [
        "#### Justificación del flujo\n",
        "Tras intentar algunos de los flujos que vimos en clase, obtuve varios errores y problemas para ser ejecutados en el notebook, por ese motivo opté por un flujo simple como el primero que vimos en clase.\n",
        "Separé el problema en:\n",
        "\n",
        "1. Extracción de información\n",
        "2. Evaluación de la solicitud\n",
        "3. Generación del correo\n",
        "\n",
        "Justifico esta separación y la presentación de los resultados en JSON en la comunicación del punto 1 al 2 y del 2 al 3, porque estoy pensando que se ha modularizado. Mientras que el primer punto es bueno para obtener la información del correo, el segundo podría pasar por un sistema previo. Por ejemplo, si está informado el número de pedido, antes podría ir a la base de datos del CII y completar la información más fidedigna en vez de fiarnos de lo que dice el correo: \"Ayer recibí...\", cuando en nuestra base de datos consta que llegó hace 10 días, por ejemplo. De este modo se modulariza y es más flexible.\n",
        "\n",
        "En cuanto a los prompts, aunque no lo parezca en el resultado final, tuve que hacer varias iteraciones (perdón por el consumo de la API key), pues es un poco puñetera. En más de un prompt tuve que reiterar para que hiciera caso de contestar solo con JSON y que en el correo respetara la decisión de aceptación o rechazo del punto anterior.\n",
        "\n",
        "La estrategia de prompt que mejor me sirvió fue la de RolePlay, pues además de leer y entender bien los mensajes, también supo redactar en el mismo tono del universo de ***Star Wars***."
      ],
      "metadata": {
        "id": "XGNM9_D8sGSP"
      }
    },
    {
      "cell_type": "markdown",
      "source": [
        "#### Conclusiones"
      ],
      "metadata": {
        "id": "dhR5JVtPwIbN"
      }
    },
    {
      "cell_type": "markdown",
      "source": [
        "Ha sido muy interesante el ejercicio y, si hubiera tenido más tiempo, me hubiera gustado mejorar el sistema, como la validación de fechas, ver si acepta una conversación del correo (petición inicial más respuestas entre la IA y el cliente), usar tools, por ejemplo simulando la llamada a la base de datos que comento en la justificación. Y más cosas que sería muy interesante analizar.\n",
        "\n",
        "También puedo ver lo que comentaba en clase, cómo se puede llegar a romper fácilmente si los prompts cambian en la IA y cómo puede haber variables externas que lo modifiquen."
      ],
      "metadata": {
        "id": "hpcZfW81wOK5"
      }
    }
  ],
  "metadata": {
    "colab": {
      "provenance": [],
      "include_colab_link": true
    },
    "kernelspec": {
      "display_name": "Python 3",
      "name": "python3"
    },
    "language_info": {
      "codemirror_mode": {
        "name": "ipython",
        "version": 3
      },
      "file_extension": ".py",
      "mimetype": "text/x-python",
      "name": "python",
      "nbconvert_exporter": "python",
      "pygments_lexer": "ipython3",
      "version": "3.9.13"
    }
  },
  "nbformat": 4,
  "nbformat_minor": 0
}