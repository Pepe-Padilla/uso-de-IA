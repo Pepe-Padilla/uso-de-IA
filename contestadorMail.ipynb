{
  "cells": [
    {
      "cell_type": "markdown",
      "source": [
        "# Automatizador de correos\n",
        "> #### Componentes Intergalacticos Industriales SA.\n",
        "Misión: automatizar las respuestas a los emails de solicitud de devolución de la empresa.\n",
        "\n",
        "Objetivo\n",
        "Aceptar la devolución:\n",
        "- ✅ Motivos para ACEPTAR una solicitud de devolución:\n",
        " - Defecto de fabricación confirmado: El producto presenta fallos internos o de funcionamiento no atribuibles al transporte ni a un mal uso.\n",
        " - Error en el suministro: Se han entregado componentes incorrectos en cuanto a modelo, cantidad o especificación respecto al pedido original.\n",
        " - Producto incompleto o con elementos faltantes de fábrica: Falta documentación técnica, piezas necesarias o embalaje original desde el origen.\n",
        "- ❌ Motivos para RECHAZAR una solicitud de devolución:\n",
        " - Daños ocasionados durante el transporte: Si el transporte no estaba asegurado  \n",
        " - contratado directamente por la empresa, no se asume responsabilidad por los daños ocurridos durante el envío.\n",
        " - Manipulación indebida por parte del cliente: Instalación incorrecta, modificaciones o uso inapropiado del componente.\n",
        " - Superación del plazo máximo para devoluciones: La solicitud se presenta fuera del periodo establecido por la política de devoluciones (por ejemplo, 14 días naturales).\n",
        "- 📧 Contestar el correo\n",
        "\n",
        "Requisitos\n",
        "- crear un flujo con al menos 3 pasos utilizando cualquiera de las herramientas usadas en clase .\n",
        "- un pequeño documento justificando los prompts y el desarrollo realizado.\n"
      ],
      "metadata": {
        "id": "5LM4Md_zMJ8_"
      }
    },
    {
      "cell_type": "markdown",
      "source": [
        "## 1. Instalación e imports"
      ],
      "metadata": {
        "id": "M7FDJzizNKYC"
      }
    },
    {
      "cell_type": "code",
      "source": [
        "!pip install langchain langchain-openai dotenv\n",
        "\n",
        "from langchain_openai import ChatOpenAI\n",
        "from langchain.prompts import ChatPromptTemplate\n",
        "from langchain.chains import LLMChain\n",
        "from langchain.schema import SystemMessage, HumanMessage\n",
        "from dotenv import load_dotenv\n",
        "\n",
        "load_dotenv()"
      ],
      "metadata": {
        "id": "cqWB3Zc3NQaa",
        "outputId": "5595a6e6-fea8-4f0e-a94c-00768fd6098f",
        "colab": {
          "base_uri": "https://localhost:8080/"
        }
      },
      "execution_count": 3,
      "outputs": [
        {
          "output_type": "stream",
          "name": "stdout",
          "text": [
            "Requirement already satisfied: langchain in /usr/local/lib/python3.11/dist-packages (0.3.24)\n",
            "Requirement already satisfied: langchain-openai in /usr/local/lib/python3.11/dist-packages (0.3.16)\n",
            "Collecting dotenv\n",
            "  Downloading dotenv-0.9.9-py2.py3-none-any.whl.metadata (279 bytes)\n",
            "Requirement already satisfied: langchain-core<1.0.0,>=0.3.55 in /usr/local/lib/python3.11/dist-packages (from langchain) (0.3.59)\n",
            "Requirement already satisfied: langchain-text-splitters<1.0.0,>=0.3.8 in /usr/local/lib/python3.11/dist-packages (from langchain) (0.3.8)\n",
            "Requirement already satisfied: langsmith<0.4,>=0.1.17 in /usr/local/lib/python3.11/dist-packages (from langchain) (0.3.39)\n",
            "Requirement already satisfied: pydantic<3.0.0,>=2.7.4 in /usr/local/lib/python3.11/dist-packages (from langchain) (2.11.4)\n",
            "Requirement already satisfied: SQLAlchemy<3,>=1.4 in /usr/local/lib/python3.11/dist-packages (from langchain) (2.0.40)\n",
            "Requirement already satisfied: requests<3,>=2 in /usr/local/lib/python3.11/dist-packages (from langchain) (2.32.3)\n",
            "Requirement already satisfied: PyYAML>=5.3 in /usr/local/lib/python3.11/dist-packages (from langchain) (6.0.2)\n",
            "Requirement already satisfied: openai<2.0.0,>=1.68.2 in /usr/local/lib/python3.11/dist-packages (from langchain-openai) (1.76.2)\n",
            "Requirement already satisfied: tiktoken<1,>=0.7 in /usr/local/lib/python3.11/dist-packages (from langchain-openai) (0.9.0)\n",
            "Collecting python-dotenv (from dotenv)\n",
            "  Downloading python_dotenv-1.1.0-py3-none-any.whl.metadata (24 kB)\n",
            "Requirement already satisfied: tenacity!=8.4.0,<10.0.0,>=8.1.0 in /usr/local/lib/python3.11/dist-packages (from langchain-core<1.0.0,>=0.3.55->langchain) (9.1.2)\n",
            "Requirement already satisfied: jsonpatch<2.0,>=1.33 in /usr/local/lib/python3.11/dist-packages (from langchain-core<1.0.0,>=0.3.55->langchain) (1.33)\n",
            "Requirement already satisfied: packaging<25,>=23.2 in /usr/local/lib/python3.11/dist-packages (from langchain-core<1.0.0,>=0.3.55->langchain) (24.2)\n",
            "Requirement already satisfied: typing-extensions>=4.7 in /usr/local/lib/python3.11/dist-packages (from langchain-core<1.0.0,>=0.3.55->langchain) (4.13.2)\n",
            "Requirement already satisfied: httpx<1,>=0.23.0 in /usr/local/lib/python3.11/dist-packages (from langsmith<0.4,>=0.1.17->langchain) (0.28.1)\n",
            "Requirement already satisfied: orjson<4.0.0,>=3.9.14 in /usr/local/lib/python3.11/dist-packages (from langsmith<0.4,>=0.1.17->langchain) (3.10.18)\n",
            "Requirement already satisfied: requests-toolbelt<2.0.0,>=1.0.0 in /usr/local/lib/python3.11/dist-packages (from langsmith<0.4,>=0.1.17->langchain) (1.0.0)\n",
            "Requirement already satisfied: zstandard<0.24.0,>=0.23.0 in /usr/local/lib/python3.11/dist-packages (from langsmith<0.4,>=0.1.17->langchain) (0.23.0)\n",
            "Requirement already satisfied: anyio<5,>=3.5.0 in /usr/local/lib/python3.11/dist-packages (from openai<2.0.0,>=1.68.2->langchain-openai) (4.9.0)\n",
            "Requirement already satisfied: distro<2,>=1.7.0 in /usr/local/lib/python3.11/dist-packages (from openai<2.0.0,>=1.68.2->langchain-openai) (1.9.0)\n",
            "Requirement already satisfied: jiter<1,>=0.4.0 in /usr/local/lib/python3.11/dist-packages (from openai<2.0.0,>=1.68.2->langchain-openai) (0.9.0)\n",
            "Requirement already satisfied: sniffio in /usr/local/lib/python3.11/dist-packages (from openai<2.0.0,>=1.68.2->langchain-openai) (1.3.1)\n",
            "Requirement already satisfied: tqdm>4 in /usr/local/lib/python3.11/dist-packages (from openai<2.0.0,>=1.68.2->langchain-openai) (4.67.1)\n",
            "Requirement already satisfied: annotated-types>=0.6.0 in /usr/local/lib/python3.11/dist-packages (from pydantic<3.0.0,>=2.7.4->langchain) (0.7.0)\n",
            "Requirement already satisfied: pydantic-core==2.33.2 in /usr/local/lib/python3.11/dist-packages (from pydantic<3.0.0,>=2.7.4->langchain) (2.33.2)\n",
            "Requirement already satisfied: typing-inspection>=0.4.0 in /usr/local/lib/python3.11/dist-packages (from pydantic<3.0.0,>=2.7.4->langchain) (0.4.0)\n",
            "Requirement already satisfied: charset-normalizer<4,>=2 in /usr/local/lib/python3.11/dist-packages (from requests<3,>=2->langchain) (3.4.1)\n",
            "Requirement already satisfied: idna<4,>=2.5 in /usr/local/lib/python3.11/dist-packages (from requests<3,>=2->langchain) (3.10)\n",
            "Requirement already satisfied: urllib3<3,>=1.21.1 in /usr/local/lib/python3.11/dist-packages (from requests<3,>=2->langchain) (2.4.0)\n",
            "Requirement already satisfied: certifi>=2017.4.17 in /usr/local/lib/python3.11/dist-packages (from requests<3,>=2->langchain) (2025.4.26)\n",
            "Requirement already satisfied: greenlet>=1 in /usr/local/lib/python3.11/dist-packages (from SQLAlchemy<3,>=1.4->langchain) (3.2.1)\n",
            "Requirement already satisfied: regex>=2022.1.18 in /usr/local/lib/python3.11/dist-packages (from tiktoken<1,>=0.7->langchain-openai) (2024.11.6)\n",
            "Requirement already satisfied: httpcore==1.* in /usr/local/lib/python3.11/dist-packages (from httpx<1,>=0.23.0->langsmith<0.4,>=0.1.17->langchain) (1.0.9)\n",
            "Requirement already satisfied: h11>=0.16 in /usr/local/lib/python3.11/dist-packages (from httpcore==1.*->httpx<1,>=0.23.0->langsmith<0.4,>=0.1.17->langchain) (0.16.0)\n",
            "Requirement already satisfied: jsonpointer>=1.9 in /usr/local/lib/python3.11/dist-packages (from jsonpatch<2.0,>=1.33->langchain-core<1.0.0,>=0.3.55->langchain) (3.0.0)\n",
            "Downloading dotenv-0.9.9-py2.py3-none-any.whl (1.9 kB)\n",
            "Downloading python_dotenv-1.1.0-py3-none-any.whl (20 kB)\n",
            "Installing collected packages: python-dotenv, dotenv\n",
            "Successfully installed dotenv-0.9.9 python-dotenv-1.1.0\n"
          ]
        },
        {
          "output_type": "execute_result",
          "data": {
            "text/plain": [
              "True"
            ]
          },
          "metadata": {},
          "execution_count": 3
        }
      ]
    },
    {
      "cell_type": "markdown",
      "source": [],
      "metadata": {
        "id": "vNmlfEmsRpf3"
      }
    },
    {
      "cell_type": "markdown",
      "source": [
        "## 2. Definición de prompts"
      ],
      "metadata": {
        "id": "MHHA7TDhN2Ve"
      }
    },
    {
      "cell_type": "code",
      "source": [
        "system_prompt_reader = \"\"\"\n",
        "Eres un asistente de atención al cliente para Componentes Intergalácticos Industriales S.A. (al estilo star wars)\n",
        "\n",
        "Tu tarea es analizar emails de solicitud de devolución\n",
        "\n",
        "Extraelos datos relevantes:\n",
        "- número de pedido (Unknow en caso de no haber sido informado)\n",
        "- nombre del cliente o empresa (Unknow en caso de no haber sido informado)\n",
        "- email\n",
        "- motivo de la solicitud\n",
        "- productos solicitados (array de productos)\n",
        "- fecha de entrega (Unknow en caso de no haber sido informado)\n",
        "- fecha de reclamación (Unknow en caso de no haber sido informado)\n",
        "- si hay defecto de fabricación en el o los productos reclamados (Unknow en caso de no haber sido informado)\n",
        "- si hay entregaron componentes incorrecto(Unknow en caso de no haber sido informado)\n",
        "- si el producto vino incompleto desde fábrica (Unknow en caso de no haber sido informado)\n",
        "- si hubo daños ocasionados durante el transporte (Unknow en caso de no haber sido informado)\n",
        "- si el envío fue asegurado por la empresa (Unknow en caso de no haber sido informado)\n",
        "- si hubo manipulación indebida por el cliente (Unknow en caso de no haber sido informado)\n",
        "\n",
        "Regresa la información en formato JSON.\n",
        "\"\"\"\n",
        "system_prompt_acceptance = \"\"\"\n",
        "Eres un asistente de atención al cliente para Componentes Intergalácticos Industriales S.A. (al estilo star wars)\n",
        "Tu tarea es analizar el objeto json de entrada y decidir si se acepta, se rechaza o se solicita más información de acurdo a las siguientes reglas:\n",
        "\n",
        "✅ ACEPTAR si:\n",
        "- Hay defecto de fabricación.\n",
        "- Se entregaron componentes incorrectos.\n",
        "- El producto vino incompleto desde fábrica.\n",
        "\n",
        "❌ RECHAZAR si:\n",
        "- Los daños ocurrieron durante el transporte y el envío no fue asegurado por la empresa.\n",
        "- Hubo manipulación indebida por parte del cliente.\n",
        "- Se ha superado el plazo de 14 días naturales para devoluciones.\n",
        "\n",
        "Resoponde sobre el json de entrada agregando si se acepta, se rechaza o se solicita más información y el motivo.\n",
        "\"\"\"\n",
        "\n",
        "system_prompt_mail = \"\"\"\n",
        "Eres un asistente de atención al cliente para Componentes Intergalácticos Industriales S.A. (al estilo star wars)\n",
        "Tu tarea es analizar el objeto json de entrada dondes se informa si una solicitud de devolución es aceptada, rechazada o se solicita más información.\n",
        "Y redacta un correo (sin placeholders por completar) de acuerdo a la información del json de entrada.\n",
        "\"\"\"\n",
        "\n",
        "style = \"Mantén un tono formal y en personaje del mundo de star wars\""
      ],
      "metadata": {
        "id": "OJIfk6QvN8QQ"
      },
      "execution_count": 4,
      "outputs": []
    },
    {
      "cell_type": "markdown",
      "source": [
        "## 3. Construcción del chain"
      ],
      "metadata": {
        "id": "qmSvhgmaShv4"
      }
    },
    {
      "cell_type": "code",
      "source": [
        "chat = ChatOpenAI(model=\"gpt-4o\")\n",
        "email_chain = LLMChain(\n",
        "    llm=chat,\n",
        "    prompt=ChatPromptTemplate.from_messages([\n",
        "        SystemMessage(content=system_prompt_reader),\n",
        "        HumanMessage(content=\"{email}\")\n",
        "    ])\n",
        ")"
      ],
      "metadata": {
        "id": "kxWiNKzyScpY"
      },
      "execution_count": null,
      "outputs": []
    }
  ],
  "metadata": {
    "colab": {
      "provenance": []
    },
    "kernelspec": {
      "display_name": "Python 3",
      "name": "python3"
    },
    "language_info": {
      "codemirror_mode": {
        "name": "ipython",
        "version": 3
      },
      "file_extension": ".py",
      "mimetype": "text/x-python",
      "name": "python",
      "nbconvert_exporter": "python",
      "pygments_lexer": "ipython3",
      "version": "3.9.13"
    }
  },
  "nbformat": 4,
  "nbformat_minor": 0
}